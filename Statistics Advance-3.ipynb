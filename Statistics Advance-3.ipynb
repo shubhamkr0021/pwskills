{
 "cells": [
  {
   "cell_type": "markdown",
   "id": "9bf89951",
   "metadata": {},
   "source": [
    "## Q1: What is Estimation Statistics? Explain point estimate and interval estimate."
   ]
  },
  {
   "cell_type": "markdown",
   "id": "9becf91f",
   "metadata": {},
   "source": [
    "Estimation statistics is a branch of statistics that involves making inferences about population parameters based on sample data. The goal of estimation is to estimate unknown population parameters, such as the mean, variance, proportion, or other characteristics, using information obtained from a sample.\n",
    "\n",
    "### Point Estimate:\n",
    "A point estimate is a single value that serves as the best guess or estimate for an unknown population parameter. It is calculated from the sample data and represents the most likely value of the population parameter. Point estimates are simple and easy to interpret, but they do not provide information about the uncertainty associated with the estimate.\n",
    "\n",
    "Example of Point Estimate:\n",
    "Suppose we want to estimate the average height (mean) of all students in a school. We take a random sample of 50 students and calculate the mean height of the sample. The resulting value, let's say 165 cm, is the point estimate of the population mean height.\n",
    "\n",
    "### Interval Estimate (Confidence Interval):\n",
    "An interval estimate, also known as a confidence interval, provides a range of values within which the population parameter is likely to lie with a certain level of confidence. It takes into account the variability in the sample data and provides a measure of uncertainty associated with the estimate. The confidence interval includes both a point estimate and a margin of error.\n",
    "\n",
    "Example of Interval Estimate:\n",
    "Continuing with the height example, suppose we calculate a 95% confidence interval for the population mean height as (160 cm, 170 cm). This means that we are 95% confident that the true population mean height lies somewhere between 160 cm and 170 cm. The point estimate (165 cm) is the center of the interval, and the margin of error is half of the width of the interval (5 cm in this case).\n",
    "\n",
    "The width of the confidence interval depends on the desired level of confidence. Common levels of confidence used are 90%, 95%, and 99%. Higher confidence levels result in wider intervals because they provide more certainty about capturing the true parameter value."
   ]
  },
  {
   "cell_type": "markdown",
   "id": "d2538842",
   "metadata": {},
   "source": [
    "## Q2. Write a Python function to estimate the population mean using a sample mean and standard deviation."
   ]
  },
  {
   "cell_type": "code",
   "execution_count": 1,
   "id": "6a2c2486",
   "metadata": {},
   "outputs": [
    {
     "name": "stdout",
     "output_type": "stream",
     "text": [
      "Estimated Population Mean: 1895.0\n"
     ]
    }
   ],
   "source": [
    "def estimate_population_mean(sample_mean, sample_std_dev, sample_size, population_size):\n",
    "    \n",
    "    import math\n",
    "\n",
    "    # Calculate the standard error of the mean\n",
    "    standard_error = sample_std_dev / math.sqrt(sample_size)\n",
    "\n",
    "    # Calculate the estimated population mean\n",
    "    estimated_population_mean = sample_mean * (population_size / sample_size)\n",
    "\n",
    "    return estimated_population_mean\n",
    "\n",
    "# For Example :\n",
    "sample_mean = 75.8\n",
    "sample_std_dev = 5\n",
    "sample_size = 80\n",
    "population_size = 2000\n",
    "\n",
    "estimated_mean = estimate_population_mean(sample_mean, sample_std_dev, sample_size, population_size)\n",
    "print(f\"Estimated Population Mean: {estimated_mean}\")\n"
   ]
  },
  {
   "cell_type": "markdown",
   "id": "f7b5bc15",
   "metadata": {},
   "source": [
    "## Q3: What is Hypothesis testing? Why is it used? State the importance of Hypothesis testing."
   ]
  },
  {
   "cell_type": "markdown",
   "id": "f331e06e",
   "metadata": {},
   "source": [
    "Hypothesis testing is a statistical method used to make inferences and draw conclusions about a population based on sample data. It involves formulating two competing hypotheses, the null hypothesis (H0) and the alternative hypothesis (H1), and then analyzing the sample data to determine whether there is enough evidence to reject the null hypothesis or data is in favour of the alternate hypothesis.\n",
    "\n",
    "The steps involved in hypothesis testing are as follows:\n",
    "\n",
    "1. Formulate Hypotheses: Define the null hypothesis (H0), which represents the status quo or the absence of an effect, and the alternative hypothesis (Ha), which represents the claim or effect that you want to test.\n",
    "\n",
    "2. Set Significance Level: Choose a significance level (alpha), typically denoted by α, which represents the probability of making a Type I error (rejecting the null hypothesis when it is true). Common significance levels are 0.05 (5%) and 0.01 (1%).\n",
    "\n",
    "3. Collect and Analyze Data: Gather sample data and perform the appropriate statistical test based on the nature of the data and the hypotheses being tested.\n",
    "\n",
    "4. Calculate Test Statistic: Calculate the test statistic, which quantifies how far the sample results deviate from what is expected under the null hypothesis.\n",
    "\n",
    "5. Determine P-Value: The p-value represents the probability of obtaining the observed results, or more extreme, if the null hypothesis is true. It helps assess the strength of evidence against the null hypothesis.\n",
    "\n",
    "6. Make a Decision: Compare the p-value to the significance level. If the p-value is less than or equal to the significance level, reject the null hypothesis in favor of the alternative hypothesis. Otherwise, fail to reject the null hypothesis.\n",
    "\n",
    "The importance of hypothesis testing are:\n",
    "\n",
    "1. Inference: Hypothesis testing allows researchers to draw conclusions about a population based on sample data, providing valuable insights into the underlying characteristics of the entire population.\n",
    "\n",
    "2. Data-Driven Decision Making: By using hypothesis testing, individuals and organizations can make informed decisions backed by statistical evidence, rather than relying on intuition or anecdotal observations.\n",
    "\n",
    "3. Scientific Research: Hypothesis testing is fundamental to scientific research, where it helps researchers evaluate theories and hypotheses, validate experimental results, and contribute to the accumulation of knowledge.\n",
    "\n",
    "4. Business and Industry: In business, hypothesis testing is used for market research, quality control, A/B testing, and other areas where data-driven decision-making is critical for success.\n",
    "\n",
    "5. Validating Assumptions: Hypothesis testing can be used to validate assumptions and claims about a population, which is crucial in fields like medicine, economics, and social sciences.\n",
    "\n",
    "6. Problem-Solving: Hypothesis testing provides a structured approach to solving problems and answering research questions, ensuring that conclusions are based on statistical evidence and not on random variations."
   ]
  },
  {
   "cell_type": "markdown",
   "id": "6de7f354",
   "metadata": {},
   "source": [
    "## Q4. Create a hypothesis that states whether the average weight of male college students is greater than the average weight of female college students."
   ]
  },
  {
   "cell_type": "markdown",
   "id": "e56e1ec7",
   "metadata": {},
   "source": [
    "Null Hypothesis (H0): The average weight of male college students is not greater than the average weight of female college students.\n",
    "    \n",
    "Alternative Hypothesis (H1) : The average weight of male college students is greater than the average weight of female college students.\n",
    "\n",
    "In symbolic notation,\n",
    "\n",
    "H0: μm <= μf\n",
    "H1: μm > μf\n",
    "\n",
    "- μm --> average weight of male college students\n",
    "- μf --> average weight of female college students\n",
    "\n",
    "\n",
    "This hypothesis testing can be done by applying statistical methods we come to a descision that we rejected the null hypothesis or we failed to reject the null hypothesis."
   ]
  },
  {
   "cell_type": "markdown",
   "id": "6fb3c478",
   "metadata": {},
   "source": [
    "## Q5. Write a Python script to conduct a hypothesis test on the difference between two population means, given a sample from each population."
   ]
  },
  {
   "cell_type": "markdown",
   "id": "e088e3dd",
   "metadata": {},
   "source": [
    "We can use the following formula to calculate the t-statistic:\n",
    " \n",
    "t = (x̄1 - x̄2) / √[(s1^2 / n1) + (s2^2 / n2)]\n",
    "\n",
    "Where:\n",
    "\n",
    "- t is the t-statistic.\n",
    "- x̄1 is the sample mean of the first group.\n",
    "- x̄2 is the sample mean of the second group.\n",
    "- s1 is the sample standard deviation of the first group.\n",
    "- s2 is the sample standard deviation of the second group.\n",
    "- n1 is the sample size of the first group.\n",
    "- n2 is the sample size of the second group.\n",
    "\n",
    "Degrees of Freedom (df) for the t-test:\n",
    "df = n1 + n2 - 2"
   ]
  },
  {
   "cell_type": "code",
   "execution_count": 2,
   "id": "ba644d4c",
   "metadata": {},
   "outputs": [
    {
     "name": "stdout",
     "output_type": "stream",
     "text": [
      "T-Statistic: 1.1837755291064513\n",
      "Critical T-Value: 2.3060041350333704\n",
      "P-Value: 0.13524031253378244\n",
      "Fail to reject null hypothesis : The population mean of the two samples are NOT Equal\n"
     ]
    }
   ],
   "source": [
    "import numpy as np\n",
    "from scipy.stats import t\n",
    "\n",
    "def two_sample_t_test(sample1, sample2, alpha=0.05):\n",
    "   \n",
    "    # Convert samples to NumPy arrays\n",
    "    sample1 = np.array(sample1)\n",
    "    sample2 = np.array(sample2)\n",
    "\n",
    "    # Calculate the sample means and standard deviations\n",
    "    mean1 = np.mean(sample1) \n",
    "    mean2 = np.mean(sample2)\n",
    "    std1 = np.std(sample1, ddof=1)\n",
    "    std2 = np.std(sample2, ddof=1)\n",
    "\n",
    "    # Calculate the degrees of freedom for the t-test\n",
    "    n1 = len(sample1)\n",
    "    n2 = len(sample2)\n",
    "    df = n1 + n2 - 2\n",
    "    \n",
    "    #null and altrnate hypothesis\n",
    "    null_hypothesis = \"The population means of the two samples are EQUAL\"\n",
    "    alt_hypothesis = \"The population mean of the two samples are NOT Equal\"\n",
    "\n",
    "    # Calculate the pooled standard deviation\n",
    "    pooled_std = np.sqrt(((n1-1)*std1**2+(n2-1)*std2**2)/df)\n",
    "\n",
    "    # Calculate the t-statistic\n",
    "    t_stat = (mean1 - mean2) / (pooled_std * np.sqrt(1 / n1 + 1 / n2))\n",
    "\n",
    "\n",
    "    # Calculate the p-value and critical value\n",
    "    p_value = 1 - t.cdf(t_stat, df=df)\n",
    "    t_crit = t.ppf(1-alpha/2, df=df)\n",
    "\n",
    "    \n",
    "    # Compare the t-statistic with the critical t-value\n",
    "    \n",
    "    if abs(t_stat) >= t_crit:\n",
    "        # Reject the null hypothesis\n",
    "        conclusion = \"Reject the null hypothesis : \" + null_hypothesis\n",
    "    else:\n",
    "        # Fail to reject the null hypothesis\n",
    "        conclusion = \"Fail to reject null hypothesis : \" + alt_hypothesis\n",
    "\n",
    "    # Store the results in a dictionary\n",
    "    result = {\n",
    "        \"t_statistic\": t_stat,\n",
    "        \"critical_t\": t_crit,\n",
    "        \"p_value\": p_value,\n",
    "        \"conclusion\": conclusion\n",
    "    }\n",
    "\n",
    "    return result\n",
    "\n",
    "# Example usage:\n",
    "sample1 = [30, 34, 35, 40, 32]\n",
    "sample2 = [20, 28, 25, 36, 39]\n",
    "alpha = 0.05\n",
    "\n",
    "result = two_sample_t_test(sample1, sample2, alpha)\n",
    "\n",
    "print(\"T-Statistic:\", result[\"t_statistic\"])\n",
    "print(\"Critical T-Value:\", result[\"critical_t\"])\n",
    "print(\"P-Value:\", result[\"p_value\"])\n",
    "print(result[\"conclusion\"])\n"
   ]
  },
  {
   "cell_type": "markdown",
   "id": "2f668ebe",
   "metadata": {},
   "source": [
    "## Q6: What is a null and alternative hypothesis? Give some examples."
   ]
  },
  {
   "cell_type": "markdown",
   "id": "77684f9e",
   "metadata": {},
   "source": [
    "The null hypothesis is the default assumption or the statement of no effect or no difference. It suggests that there is no significant effect or relationship between variables, or no difference between groups. It is typically denoted as \"H0\"\n",
    "\n",
    "The alternative hypothesis is the statement that contradicts the null hypothesis. It proposes that there is a significant effect, relationship, or difference between variables or groups. It is the hypothesis you are trying to find evidence for. It is denoted as \"Ha or H1\"\n",
    "\n",
    "Examples of Null and alternate hypothesis are:\n",
    "\n",
    "##### Null Hypothesis : The average height of boys and girls in a college are same <br> Alternate Hypothesis : The average height of boys are greater than girls in a college\n",
    "\n",
    "##### Null Hypothesis : Medicine has no effect on average IQ of a person <br>  Alternate Hypothesis : Medicine has effect on the average IQ of a person\n",
    "\n",
    "##### Null Hypothesis : There is no correlation between hours of study and exam scores.  <br> Alternate Hypothesis : There is a significant correlation between hours of study and exam scores.\n",
    "\n",
    "##### Null Hypothesis : The new drug has no effect on reducing blood pressure.  <br> Alternate Hypothesis : The new drug has a significant effect on reducing blood pressure.\n"
   ]
  },
  {
   "cell_type": "markdown",
   "id": "7c80cc12",
   "metadata": {},
   "source": [
    "## Q7: Write down the steps involved in hypothesis testing."
   ]
  },
  {
   "cell_type": "markdown",
   "id": "92110e4b",
   "metadata": {},
   "source": [
    "The steps involved in Hypothesis Testing are as follows:\n",
    "\n",
    "##### Formulate Hypotheses:\n",
    "Define the null hypothesis (H0), which represents the status quo or the absence of an effect, and the alternative hypothesis (Ha), which represents the claim or effect that you want to test.\n",
    "\n",
    "##### Set Significance Level: \n",
    "Choose a significance level (alpha), typically denoted by α, which represents the probability of making a Type I error (rejecting the null hypothesis when it is true). Common significance levels are 0.05 (5%) and 0.01 (1%).\n",
    "\n",
    "##### Collect and Analyze Data: \n",
    "Gather sample data and perform the appropriate statistical test based on the nature of the data and the hypotheses being tested.\n",
    "\n",
    "##### Calculate Test Statistic: \n",
    "Calculate the test statistic, which quantifies how far the sample results deviate from what is expected under the null hypothesis.\n",
    "\n",
    "##### Determine P-Value: \n",
    "The p-value represents the probability of obtaining the observed results, or more extreme, if the null hypothesis is true. It helps assess the strength of evidence against the null hypothesis.\n",
    "\n",
    "##### Make a Decision: \n",
    "Compare the p-value to the significance level. If the p-value is less than or equal to the significance level, reject the null hypothesis in favor of the alternative hypothesis. Otherwise, fail to reject the null hypothesis."
   ]
  },
  {
   "cell_type": "markdown",
   "id": "f2552747",
   "metadata": {},
   "source": [
    "## Q8. Define p-value and explain its significance in hypothesis testing."
   ]
  },
  {
   "cell_type": "markdown",
   "id": "fce46041",
   "metadata": {},
   "source": [
    "In hypothesis testing, the p-value (probability value) is a measure of the evidence against the null hypothesis (H0). It quantifies the probability of obtaining an observed result, or more extreme, if the null hypothesis were true. In simpler terms, the p-value tells us how likely it is to observe the data we have or more extreme results, assuming that there is no real effect (i.e., the null hypothesis is true).\n",
    "\n",
    "The significance of the p-value in hypothesis testing is as follows:\n",
    "\n",
    "##### Interpreting the p-value:\n",
    "- A small p-value (typically less than the chosen significance level, alpha) indicates strong evidence against the null hypothesis. It suggests that the observed effect or difference is unlikely to have occurred by chance alone if the null hypothesis were true. In this case, we may reject the null hypothesis in favor of the alternative hypothesis.\n",
    "- A large p-value (greater than or equal to alpha) suggests that the observed effect or difference is likely to occur due to random chance, even if the null hypothesis were true. In such cases, we fail to reject the null hypothesis, meaning we do not have enough evidence to support the alternative hypothesis.\n",
    "\n",
    "##### Significance level (alpha):\n",
    "- The significance level (alpha) is the threshold used to determine whether the p-value is considered small enough to reject the null hypothesis. Commonly used values for alpha are 0.05 (5%) or 0.01 (1%). \n",
    "- If the p-value is less than or equal to alpha, we reject the null hypothesis. \n",
    "- If the p-value is greater than alpha, we fail to reject the null hypothesis.\n",
    "\n",
    "##### Relationship to Confidence Intervals:\n",
    "- The p-value is closely related to confidence intervals. \n",
    "- If a 95% confidence interval includes the null hypothesis value, then the corresponding two-tailed p-value will be greater than 0.05. \n",
    "- If the null hypothesis value falls outside the 95% confidence interval, the two-tailed p-value will be less than or equal to 0.05.\n",
    "\n",
    "##### Cautionary note:\n",
    "- A small p-value does not prove that the alternative hypothesis is true.\n",
    "- A large p-value prove that the null hypothesis is true.\n",
    "- The p-value only provides evidence for or against the null hypothesis based on the data at hand."
   ]
  },
  {
   "cell_type": "markdown",
   "id": "1b352fc8",
   "metadata": {},
   "source": [
    "## Q9. Generate a Student's t-distribution plot using Python's matplotlib library, with the degrees of freedom parameter set to 10."
   ]
  },
  {
   "cell_type": "code",
   "execution_count": 3,
   "id": "9641174a",
   "metadata": {},
   "outputs": [
    {
     "data": {
      "image/png": "[encoded data removed]",
      "text/plain": [
       "<Figure size 800x600 with 1 Axes>"
      ]
     },
     "metadata": {},
     "output_type": "display_data"
    }
   ],
   "source": [
    "import numpy as np\n",
    "import matplotlib.pyplot as plt\n",
    "from scipy.stats import t\n",
    "\n",
    "# Degrees of freedom for the t-distribution\n",
    "df = 10\n",
    "\n",
    "# Create a range of values from the t-distribution\n",
    "x = np.linspace(-5, 5, 500)\n",
    "\n",
    "# Calculate the corresponding probability density function (PDF) values\n",
    "pdf_values = t.pdf(x, df)\n",
    "\n",
    "# Plot the t-distribution\n",
    "plt.figure(figsize=(8, 6))\n",
    "plt.plot(x, pdf_values, label=f\"df = {df}\", color='b')\n",
    "plt.title(\"Student's t-Distribution\")\n",
    "plt.xlabel(\"x\")\n",
    "plt.ylabel(\"Probability Density Function (PDF)\")\n",
    "plt.legend()\n",
    "plt.grid(True)\n",
    "plt.show()\n"
   ]
  },
  {
   "cell_type": "markdown",
   "id": "9069e932",
   "metadata": {},
   "source": [
    "## Q10. Write a Python program to calculate the two-sample t-test for independent samples, given two random samples of equal size and a null hypothesis that the population means are equal."
   ]
  },
  {
   "cell_type": "code",
   "execution_count": 4,
   "id": "49273fd9",
   "metadata": {},
   "outputs": [
    {
     "name": "stdout",
     "output_type": "stream",
     "text": [
      "t-statistic =  -3.174384277290191\n",
      "p-value =  0.002006890813274184\n",
      "Confidence Interval = 0.95\n",
      "\n",
      "\n",
      "REJECT the null hypothesis that the population means are equal.\n",
      "Conclusion : Population means for both samples are DIFFERENT\n"
     ]
    }
   ],
   "source": [
    "import numpy as np\n",
    "from scipy.stats import ttest_ind\n",
    "\n",
    "# Generate two random samples of equal size\n",
    "sample1 = np.random.normal(loc=10, scale=2, size=50)\n",
    "sample2 = np.random.normal(loc=12, scale=2, size=50)\n",
    "\n",
    "# Calculate the t-statistic and p-value using the ttest_ind function\n",
    "t_stat, p_val = ttest_ind(sample1, sample2)\n",
    "\n",
    "# Print the results\n",
    "print(\"t-statistic = \", t_stat)\n",
    "print(\"p-value = \", p_val)\n",
    "\n",
    "alpha = 0.05\n",
    "print(\"Confidence Interval =\",1-alpha)\n",
    "print('\\n')\n",
    "\n",
    "# Test the null hypothesis\n",
    "if p_val < alpha:\n",
    "    print(\"REJECT the null hypothesis that the population means are equal.\")\n",
    "    print(\"Conclusion : Population means for both samples are DIFFERENT\")\n",
    "else:\n",
    "    print(\"FAIL to reject the null hypothesis that the population means are equal.\")\n",
    "    print(\"Conclusion : Population means for both samples are EQUAL\")"
   ]
  },
  {
   "cell_type": "markdown",
   "id": "eaeb9d83",
   "metadata": {},
   "source": [
    "## Q11: What is Student’s t distribution? When to use the t-Distribution."
   ]
  },
  {
   "cell_type": "markdown",
   "id": "8489b7ca",
   "metadata": {},
   "source": [
    "Student's t-distribution, often referred to as the t-distribution, is a probability distribution used in statistics. It is a family of distributions that arise from the normal distribution but have heavier tails. The t-distribution is commonly used when the sample size is small, and the population standard deviation is unknown.\n",
    "\n",
    "The t-distribution is characterized by its degrees of freedom (df), which determine the shape of the distribution. The degrees of freedom depend on the sample size (n) and play a crucial role in determining the variability of the t-distribution. As the degrees of freedom increase, the t-distribution approaches the standard normal (Z) distribution.\n",
    "\n",
    "### When to use the t-distribution:\n",
    "\n",
    "##### Small Sample Size:\n",
    "\n",
    "The t-distribution is appropriate when the sample size is small (usually n < 30) and the population standard deviation is unknown.\n",
    "\n",
    "##### Population Standard Deviation Unknown:\n",
    "\n",
    "The t-distribution is used when the population standard deviation is unknown, and it needs to be estimated from the sample data. The t-distribution accounts for the additional uncertainty introduced by estimating the population standard deviation from the sample.\n",
    "\n",
    "##### Hypothesis Testing and Confidence Intervals:\n",
    "\n",
    "When conducting hypothesis tests or constructing confidence intervals for the population mean based on a small sample size, the t-distribution is used to account for the uncertainty in the sample mean estimation.\n",
    "\n",
    "##### Comparison of Means:\n",
    "\n",
    "The t-distribution is often used to compare the means of two independent samples (two-sample t-test) or paired samples (paired t-test).\n",
    "\n",
    "##### Regression Analysis:\n",
    "\n",
    "In linear regression analysis, the t-distribution is used to assess the statistical significance of the regression coefficients.\n",
    "It is important to note that as the sample size increases (n ≥ 30), the t-distribution approaches the standard normal distribution (Z-distribution). Consequently, for large sample sizes, using the standard normal distribution is often a reasonable approximation."
   ]
  },
  {
   "cell_type": "markdown",
   "id": "558168b9",
   "metadata": {},
   "source": [
    "## Q12: What is t-statistic? State the formula for t-statistic."
   ]
  },
  {
   "cell_type": "markdown",
   "id": "1d172bfa",
   "metadata": {},
   "source": [
    "The t-statistic, also known as the t-value, is a measure used in hypothesis testing to assess the difference between a sample statistic (e.g., sample mean) and a population parameter when the population standard deviation is unknown and needs to be estimated from the sample data. The t-statistic is a standardized version of the difference, expressed in terms of the standard error of the sample statistic.\n",
    "\n",
    "The formula for the t-statistic, when comparing the sample mean (x̄) to a hypothesized population mean (μ), is as follows:\n",
    "\n",
    "t = (x̄ - μ) / (s / √n)\n",
    "\n",
    "Where:\n",
    "\n",
    "- t is the t-statistic.\n",
    "- x̄ is the sample mean.\n",
    "- μ is the hypothesized population mean under the null hypothesis.\n",
    "- s is the sample standard deviation (an estimate of the population standard deviation).\n",
    "- n is the sample size.\n",
    "\n",
    "The t-statistic measures how many standard errors the sample mean is away from the hypothesized population mean.\n",
    "\n",
    "- If the t-statistic is large (either positive or negative), it suggests that the sample mean is significantly different from the hypothesized population mean, and we may reject the null hypothesis.\n",
    "- If the t-statistic is small, it indicates that the sample mean is close to the hypothesized population mean, and we may fail to reject the null hypothesis."
   ]
  },
  {
   "cell_type": "markdown",
   "id": "9af69a9f",
   "metadata": {},
   "source": [
    "## Q13. A coffee shop owner wants to estimate the average daily revenue for their shop. They take a random sample of 50 days and find the sample mean revenue to be 500 dollar with a standard deviation of 50dollar. Estimate the population mean revenue with a 95% confidence interval."
   ]
  },
  {
   "cell_type": "code",
   "execution_count": 5,
   "id": "bfb4ca17",
   "metadata": {},
   "outputs": [
    {
     "name": "stdout",
     "output_type": "stream",
     "text": [
      "The 95% confidence interval for the population mean revenue is: ($485.790, $514.210)\n"
     ]
    }
   ],
   "source": [
    "import math\n",
    "import scipy.stats as stats\n",
    "\n",
    "sample_mean = 500 #sample mean\n",
    "sample_std = 50 #sample standard deviation\n",
    "n = 50 #sample size\n",
    "confidence_interval = 0.95 #confidence interval\n",
    "alpha = 1 - confidence_interval  # significance level\n",
    "dof = n - 1  # degrees of freedom\n",
    "t_value = stats.t.ppf(1 - alpha/2, dof)  # two-tailed t-value\n",
    "\n",
    "std_error = sample_std / math.sqrt(n)\n",
    "margin_of_error = t_value * std_error\n",
    "\n",
    "#Acceptance mean bound\n",
    "lower_bound = sample_mean - margin_of_error\n",
    "upper_bound = sample_mean + margin_of_error\n",
    "\n",
    "print(f\"The 95% confidence interval for the population mean revenue is: (${lower_bound:.3f}, ${upper_bound:.3f})\")"
   ]
  },
  {
   "cell_type": "markdown",
   "id": "64ab710e",
   "metadata": {},
   "source": [
    "## Q14. A researcher hypothesizes that a new drug will decrease blood pressure by 10 mmHg. They conduct aclinical trial with 100 patients and find that the sample mean decrease in blood pressure is 8 mmHg with a standard deviation of 3 mmHg. Test the hypothesis with a significance level of 0.05."
   ]
  },
  {
   "cell_type": "code",
   "execution_count": 6,
   "id": "74de8484",
   "metadata": {},
   "outputs": [
    {
     "name": "stdout",
     "output_type": "stream",
     "text": [
      "The p-value is 7.506144504985082e-10, which is less than the significance level of 0.05.\n",
      "Reject the null hypothesis: The new drug causes an average decrease of 10mmHg in blood pressure.\n"
     ]
    }
   ],
   "source": [
    "import math\n",
    "import scipy.stats as stats\n",
    "\n",
    "n= 100 #samplesize\n",
    "null_hypothesis = \"The new drug causes an average decrease of 10mmHg in blood pressure\"\n",
    "alternate_hypothesis = \"The new drug causes an average decrease of less than 10mmHg in blood pressure \"\n",
    "sample_mean = 8 #sample mean\n",
    "pop_mean= 10 #population mean\n",
    "sample_std = 3 #sample standard deviation\n",
    "alpha = 0.05 #significance level\n",
    "dof = n-1 #degree of freedom\n",
    "\n",
    "\n",
    "#calculating t and p value\n",
    "t_value = (sample_mean-pop_mean)/(sample_std/math.sqrt(n))\n",
    "p_value = stats.t.cdf(t_value,df = n-1)\n",
    "\n",
    "#comparing p value and significance level\n",
    "if p_value < alpha:\n",
    "    print(f\"The p-value is {p_value}, which is less than the significance level of {alpha}.\")\n",
    "    print(f\"Reject the null hypothesis: {null_hypothesis}.\")\n",
    "else:\n",
    "    print(f\"The p-value is {p_value}, which is greater than the significance level of {significance_level}.\")\n",
    "    print(f\"Fail to reject the null hypothesis: {null_hypothesis}.\")"
   ]
  },
  {
   "cell_type": "markdown",
   "id": "fc191ba0",
   "metadata": {},
   "source": [
    "## Q15. An electronics company produces a certain type of product with a mean weight of 5 pounds and a standard deviation of 0.5 pounds. A random sample of 25 products is taken, and the sample mean weight is found to be 4.8 pounds. Test the hypothesis that the true mean weight of the products is less than 5 pounds with a significance level of 0.01."
   ]
  },
  {
   "cell_type": "code",
   "execution_count": 7,
   "id": "db2fda46",
   "metadata": {},
   "outputs": [
    {
     "name": "stdout",
     "output_type": "stream",
     "text": [
      "The p-value is 0.02846992496829572, which is greater than the significance level of 0.01.\n",
      "Fail to reject the null hypothesis: The true mean weight of the products is less than 5 pounds.\n"
     ]
    }
   ],
   "source": [
    "import math\n",
    "import scipy.stats as stats\n",
    "\n",
    "pop_mean = 5 #population mean\n",
    "pop_std = 0.5 #population standard deviation\n",
    "n=25 #sample size\n",
    "sample_mean= 4.8 #sample mean\n",
    "alpha = 0.01 #significance level\n",
    "dof = n-1 #degree of freedom\n",
    "\n",
    "null_hypothesis=\"The true mean weight of the products is less than 5 pounds\"\n",
    "alternate_hypothesis=\"The true mean weight of the products is greater than or equal to 5 pounds\"\n",
    "\n",
    "#since sample size is less than 30 we will procced with t-test\n",
    "t_test = (sample_mean-pop_mean)/(pop_std/math.sqrt(n))\n",
    "p_value = stats.t.cdf(t_test,df = dof)\n",
    "\n",
    "#comparing p value and significance level\n",
    "if p_value < alpha:\n",
    "    print(f\"The p-value is {p_value}, which is less than the significance level of {alpha}.\")\n",
    "    print(f\"Reject the null hypothesis: {null_hypothesis}.\")\n",
    "else:\n",
    "    print(f\"The p-value is {p_value}, which is greater than the significance level of {alpha}.\")\n",
    "    print(f\"Fail to reject the null hypothesis: {null_hypothesis}.\")"
   ]
  },
  {
   "cell_type": "markdown",
   "id": "9f476e4f",
   "metadata": {},
   "source": [
    "## Q16. Two groups of students are given different study materials to prepare for a test. The first group (n1 =30) has a mean score of 80 with a standard deviation of 10, and the second group (n2 = 40) has a mean score of 75 with a standard deviation of 8. Test the hypothesis that the population means for the two groups are equal with a significance level of 0.01."
   ]
  },
  {
   "cell_type": "markdown",
   "id": "11830e65",
   "metadata": {},
   "source": [
    "We can use the following formula to calculate the t-statistic:\n",
    " \n",
    "t = (x̄1 - x̄2) / √[(s1^2 / n1) + (s2^2 / n2)]\n",
    "\n",
    "Where:\n",
    "\n",
    "- t is the t-statistic.\n",
    "- x̄1 is the sample mean of the first group.\n",
    "- x̄2 is the sample mean of the second group.\n",
    "- s1 is the sample standard deviation of the first group.\n",
    "- s2 is the sample standard deviation of the second group.\n",
    "- n1 is the sample size of the first group.\n",
    "- n2 is the sample size of the second group.\n",
    "\n",
    "Degrees of Freedom (df) for the t-test:\n",
    "<br>df = n1 + n2 - 2"
   ]
  },
  {
   "cell_type": "code",
   "execution_count": 8,
   "id": "9ec894b2",
   "metadata": {},
   "outputs": [
    {
     "name": "stdout",
     "output_type": "stream",
     "text": [
      "p-value:  0.027613480367697483\n",
      "significance value:  0.01\n",
      "Fail to reject the null hypothesis.\n",
      "Conclusion : The population means of the two groups are equal\n"
     ]
    }
   ],
   "source": [
    "import math\n",
    "import scipy.stats as stats\n",
    "\n",
    "#Given group 1 statistics\n",
    "n1=30\n",
    "mean_1= 80\n",
    "s1=10\n",
    "#Given group 2 statistics\n",
    "n2=40\n",
    "mean_2=75\n",
    "s2=8\n",
    "\n",
    "#significance level\n",
    "alpha = 0.01\n",
    "\n",
    "null_hypothesis = \"The population means of the two groups are equal\"\n",
    "alternate_hypothesis = \"The population means of the two groups are not equal\" \n",
    "\n",
    "#degree of freedom\n",
    "df= n1+n2 -2\n",
    "\n",
    "#2-tailed test\n",
    "t = (mean_1 - mean_2) / ((s1**2 / n1) + (s2**2 / n2))**0.5\n",
    "p_value = stats.t.sf(abs(t), df) * 2\n",
    "\n",
    "#check the p value with significance value\n",
    "print(\"p-value: \", p_value)\n",
    "print(\"significance value: \", alpha)\n",
    "if p_value < alpha:\n",
    "    print(f\"Reject the null hypothesis : {null_hypothesis}\")\n",
    "    print(f\"Conclusion : {alternative_hypothesis}\")\n",
    "else:\n",
    "    print(\"Fail to reject the null hypothesis.\")\n",
    "    print(f\"Conclusion : {null_hypothesis}\")"
   ]
  },
  {
   "cell_type": "markdown",
   "id": "210f21de",
   "metadata": {},
   "source": [
    "## Q17. A marketing company wants to estimate the average number of ads watched by viewers during a TV program. They take a random sample of 50 viewers and find that the sample mean is 4 with a standard deviation of 1.5. Estimate the population mean with a 99% confidence interval."
   ]
  },
  {
   "cell_type": "code",
   "execution_count": 11,
   "id": "f9a1b03e",
   "metadata": {},
   "outputs": [
    {
     "name": "stdout",
     "output_type": "stream",
     "text": [
      "The population mean is between 3.43 and 4.57 with 99% confidence interval\n"
     ]
    }
   ],
   "source": [
    "import math\n",
    "import scipy.stats as stats\n",
    "\n",
    "n =50\n",
    "sample_mean = 4\n",
    "sample_std = 1.5\n",
    "ci = 0.99\n",
    "alpha = 1-ci\n",
    "\n",
    "# calculate the t-value for the desired level of confidence and degrees of freedom\n",
    "t_value = stats.t.ppf((1+ci)/2,n-1)\n",
    "\n",
    "# Calculate margin of error\n",
    "margin_error = t_value * (sample_std / math.sqrt(n))\n",
    "\n",
    "# Calculate confidence interval\n",
    "lower_interval = sample_mean - margin_error\n",
    "upper_interval = sample_mean + margin_error\n",
    "\n",
    "# Print results\n",
    "print(\"The population mean is between\", round(lower_interval, 2), \"and\", round(upper_interval, 2), \"with 99% confidence interval\" )"
   ]
  }
 ],
 "metadata": {
  "kernelspec": {
   "display_name": "Python 3 (ipykernel)",
   "language": "python",
   "name": "python3"
  },
  "language_info": {
   "codemirror_mode": {
    "name": "ipython",
    "version": 3
   },
   "file_extension": ".py",
   "mimetype": "text/x-python",
   "name": "python",
   "nbconvert_exporter": "python",
   "pygments_lexer": "ipython3",
   "version": "3.11.5"
  }
 },
 "nbformat": 4,
 "nbformat_minor": 5
}
