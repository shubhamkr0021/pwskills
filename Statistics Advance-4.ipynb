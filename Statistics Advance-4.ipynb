{
 "cells": [
  {
   "cell_type": "markdown",
   "id": "f1646108",
   "metadata": {},
   "source": [
    "## Q1: What is the difference between a t-test and a z-test? Provide an example scenario where you would use each type of test."
   ]
  },
  {
   "cell_type": "markdown",
   "id": "9afb45b2",
   "metadata": {},
   "source": [
    "The t-test and z-test are both hypothesis tests used to compare means between two groups or populations\n",
    "\n",
    "- Sample Size: T-test is suitable for small sample sizes, while z-test is appropriate for large sample sizes.\n",
    "\n",
    "- Population Standard Deviation: T-test is used when the population standard deviation is unknown, while z-test assumes the population standard deviation is known or can be accurately estimated.\n",
    "\n",
    "- Sensitivity to Sample Size: T-test is more sensitive to sample size, making it useful for smaller samples.\n",
    "\n",
    "Scenario for using t test:\n",
    "Consider a scenario where we want to compare the average test scores of two groups of students (Group A and Group B) who received different teaching methods. If the sample sizes of both groups are small (e.g., n < 30) and the population standard deviations of test scores are unknown, we can use a two-sample t-test (also known as an independent t-test) to determine if there is a significant difference in the average test scores between the two groups.\n",
    "\n",
    "Scenario for using Z test:\n",
    "\n",
    "Suppose we want to compare the average weight of male students in a school to the average weight of male students across all schools in the country. If we have a large enough random sample (n ≥ 30) of male students from the school, and the population standard deviation of male students' weights across all schools is known, we can use a z-test to determine if the average weight of male students in the school is significantly different from the national average.\n",
    "\n",
    "\n",
    "\n"
   ]
  },
  {
   "cell_type": "markdown",
   "id": "17afc738",
   "metadata": {},
   "source": [
    "## Q2: Differentiate between one-tailed and two-tailed tests."
   ]
  },
  {
   "cell_type": "markdown",
   "id": "23c4502e",
   "metadata": {},
   "source": [
    "The main difference between one-tailed and two-tailed tests is the directionality of the hypothesis being tested.\n",
    "- One-tailed tests are used when we have a specific directional expectation\n",
    "- Two-tailed tests are used when we are interested in detecting a significant difference in any direction. \n",
    "\n",
    "### One Tailed Test\n",
    "\n",
    "The hypothesis here is directional ie.we are testing for a difference in either one side of the direction.\n",
    "\n",
    "The critical section (rejection area) is located in one side of the probability distribution.\n",
    "\n",
    "For Example: We are testing a new drugs effectiveness and expect it to increase a certian outcome variable.\n",
    "- Null Hypothesis: The new drug has no effect on the outcome variable\n",
    "- Alternate Hypothesis: The new drug increases the outcome vaariable\n",
    "\n",
    "The critical section for this test would be on the either right or left depending on the direction specified by the alternate hypothesis\n",
    "\n",
    "### Two Tailed Test\n",
    "\n",
    "The hypothesis here is non-directional ie.we are interested in testing the significant difference in both the directions\n",
    "The critical section is split into two regions one on the either side of the probability distribution.\n",
    "\n",
    "For Example: We are testing if a coin is fair\n",
    "- Null Hypothesis: The probaility of outcome of heads and tails is same\n",
    "- Alternate Hypothesis : The probability of outcome of heads and tails is different\n",
    "\n",
    "The critical section for this test would be divided into two regions ie.one tail for the greater than part and one for the lesser than part\n",
    "\n",
    "\n"
   ]
  },
  {
   "cell_type": "markdown",
   "id": "ba24e3cc",
   "metadata": {},
   "source": [
    "## Q3: Explain the concept of Type 1 and Type 2 errors in hypothesis testing. Provide an example scenario for each type of error."
   ]
  },
  {
   "cell_type": "markdown",
   "id": "3c1a3477",
   "metadata": {},
   "source": [
    "Type 1 and Type 2 errors are the mistakes which occur when making decisions based on statsistical tests.\n",
    "\n",
    "### Type 1 Error (False Positive):\n",
    "Type 1 error occurs when we indirectly reject a true null hypothesis. \n",
    "\n",
    "We conclude based on statistical tests that is a significant effect or difference but in reality, there is no such effect or difference in the population.\n",
    "\n",
    "The maxmimum acceptance probaility of making a Type 1 error is denoted by alpha(α) and is also reffered to the signifiacance level of the test.\n",
    "\n",
    "Example : Suppose we are testing a new drugs effectiveness on a medical condition.\n",
    "\n",
    "- Null Hypothesis : The drug has no effect on medical condition\n",
    "- Alternate Hypothesis :The drug is effective on treating the medical condition\n",
    "\n",
    "On conducting a sample test we found out that there is a significant effect and we rejected the null hypothesis but the drug acutally is not effective (rejected a true null hypothesis) then we have made a Type 1 Error\n",
    "\n",
    "### Type 2 Error (False Negative):\n",
    "\n",
    "Type 2 Error occurs when we fail to reject a false null hypothesis.\n",
    "\n",
    "We conclude that there is no significant effect or difference but in reality,there is a significant difference or effect in the population.\n",
    "\n",
    "The probaility of making a Type 2 error denote by beta (β) and is related to the power of the test. Power(1 - β) is the probabilty of coorectly rejecting a false null hypothesis.\n",
    "\n",
    "Example : \n",
    "\n",
    "- Null Hypothesis : The drug has no effect on medical condition\n",
    "- True Alternate Hypothesis : The drug is effective on treating the medical condition\n",
    "\n",
    "On conducting sample test we failed to detect the effect ie,reject the null hypothesis.\n",
    "In such a case we say its a Type 2 error because we failed to detect the effect (ie,fail to reject the null hypothesis)\n",
    "\n",
    "\n"
   ]
  },
  {
   "cell_type": "markdown",
   "id": "848dd8b9",
   "metadata": {},
   "source": [
    "## Q4: Explain Bayes's theorem with an example."
   ]
  },
  {
   "cell_type": "markdown",
   "id": "da5cee02",
   "metadata": {},
   "source": [
    "- Bayes's theorem is named after the mathematician Thomas Bayes\n",
    "- It allows us to update the probability of an event occurring based on new evidence or informations\n",
    "- Bayes's theorem is particularly useful in the context of conditional probabilities.\n",
    "\n",
    "Formula for Bayes theorem is :\n",
    "\n",
    "P(A|B) = (P(B|A) * P(A)) / P(B) \n",
    "\n",
    "Given that P(B) ≠ 0\n",
    "\n",
    "Where:\n",
    "\n",
    "- P(A|B) represents the conditional probability of event A occurring given that event B has occurred.\n",
    "- P(B|A) is the conditional probability of event B occurring given that event A has occurred.\n",
    "- P(A) is the prior probability of event A occurring before considering any new evidence.\n",
    "- P(B) is the prior probability of event B occurring before considering any new evidence.\n",
    "\n",
    "Example:\n",
    "\n",
    "A bag I contains 4 white and 6 black balls while another Bag II contains 4 white and 3 black balls. One ball is drawn at random from one of the bags, and it is found to be black. Find the probability that it was drawn from Bag I.\n",
    "\n",
    "Solution:\n",
    "\n",
    "Let E1 be the event of choosing bag I, E2 the event of choosing bag II, and A be the event of drawing a black ball.\n",
    "\n",
    "Then,\n",
    "\n",
    "P(E1) = P(E2) = 1/2\n",
    " \n",
    "Also, P(A|E1) = P(drawing a black ball from Bag I) = 6/10 = 3/5\n",
    "\n",
    "P(A|E2) = P(drawing a black ball from Bag II) = 3/7\n",
    "\n",
    "By using Bayes’ theorem, the probability of drawing a black ball from bag I out of two bags,\n",
    "\n",
    "<br>P(E1|A) = (P(A|E1) * P(E1)) / P(A)\n",
    "<br>P(E1|A) = (P(A|E1) * P(E1)) / (P(A|E1) * P(E1)) + (P(A|E2) * P(E2))\n",
    "<br>P(E1|A) = (3/5*1/2) / ((3/5*1/2) + (3/7*1/2))\n",
    "<br>P(E1|A) = 7/12\n",
    "<br>P(E1|A) = 0.583\n",
    "\n",
    "Hence the probability of the black ball drawn is from Bag 1 is 0.583"
   ]
  },
  {
   "cell_type": "markdown",
   "id": "f4496c65",
   "metadata": {},
   "source": [
    "## Q5: What is a confidence interval? How to calculate the confidence interval, explain with an example."
   ]
  },
  {
   "cell_type": "markdown",
   "id": "cbbd9279",
   "metadata": {},
   "source": [
    "A confidence interval is a statsistical range that provides an estimate of the possible values of the unknowm population parameter such as mean,popotion or the standard deviation.\n",
    "\n",
    "It is used to quantify the uncerainity associated with the sample based estimates and to express the level of confidence we have in the the accuracy of the estimate\n",
    "\n",
    "Confidence intervals are associated with the confidence level which represent the probability that the interval contains true population parameter. \n",
    "\n",
    "For example if the confidence interval is 95% this means if we were to draw many samples from the population and calculate population interval for each sample then approximately 95% of the intervals would contain the true population parameter.\n",
    "\n",
    "\n",
    "For a population mean (μ) with a known population standard deviation (σ), the confidence interval can be calculated as:\n",
    "\n",
    "**Confidence Interval = Sample Mean ± Z * (σ / √n)**\n",
    "\n",
    "Where:\n",
    "\n",
    "- Sample Mean: The mean of the sample data.\n",
    "- Z: The critical value from the standard normal distribution corresponding to the desired confidence level. For a 95% confidence interval, Z is approximately 1.96.\n",
    "- σ: The known population standard deviation.\n",
    "- n: The sample size.\n",
    "\n",
    "For a population mean (μ) with an unknown population standard deviation, the confidence interval can be calculated as:\n",
    "\n",
    "**Confidence Interval = Sample Mean ± t * (s / √n)**\n",
    "\n",
    "Where:\n",
    "\n",
    "- Sample Mean: The mean of the sample data.\n",
    "- t: The critical value from the t-distribution corresponding to the desired confidence level and the degrees of freedom (df = n - 1).\n",
    "- s: The sample standard deviation.\n",
    "- n: The sample size.\n",
    "\n",
    "### Example :\n",
    "\n",
    "Suppose we want to estimate the average height of all students in a particular school. We take a random sample of 50 students and measure their heights. The sample mean height is 165 cm, and the sample standard deviation is 8 cm.\n",
    "\n",
    "We want to calculate a 95% confidence interval for the true average height of all students in the school.\n",
    "\n",
    "Since population standard deviation is not known we will use t test\n",
    "\n",
    "For 95% CI with alpha =0.05 and degree of freedom = 49 (n-1) t value is approximately 2.009\n",
    "\n",
    "CI = 165 ± 2.009 * (8/√50)\n",
    "CI = 165 ± 2.84\n",
    "\n",
    "The 95% Confidence Interval for the population mean height is approximately (162.16,167.84)\n",
    "\n",
    "This means we can be 95% confident that the true average height of all students in the school falls within this interval."
   ]
  },
  {
   "cell_type": "markdown",
   "id": "8bce854f",
   "metadata": {},
   "source": [
    "## Q6. Use Bayes' Theorem to calculate the probability of an event occurring given prior knowledge of the event's probability and new evidence. Provide a sample problem and solution."
   ]
  },
  {
   "cell_type": "markdown",
   "id": "4a415915",
   "metadata": {},
   "source": [
    "Sample Problem:\n",
    "\n",
    "Suppose we have a bag of 100 marbles, which contains 30 red marbles and 70 blue marbles. We draw one marble from the bag but do not look at its color. Then, we randomly draw another marble and find that it is red. Now, we want to calculate the probability that the first marble drawn was red (Event A) given that the second marble drawn is red (Event B).\n",
    "\n",
    "Solution:\n",
    "\n",
    "Let's define the events:\n",
    "\n",
    "- A: The first marble drawn is red.\n",
    "- B: The second marble drawn is red.\n",
    "\n",
    "We are given the prior probabilities:\n",
    "\n",
    "<br>P(A) = Probability of drawing a red marble on the first draw = 30/100 = 0.3\n",
    "<br>P(B|A) = Probability of drawing a red marble on the second draw given that the first marble was red = 29/99 (since there is one less red marble and one less total marble after the first draw)\n",
    "<br>Now, we want to find P(A|B) which represents the probability of drawing a red marble on the first draw given that the second marble was red.\n",
    "\n",
    "Using Bayes' Theorem:\n",
    "\n",
    "P(A|B) = (P(B|A) * P(A)) / P(B)\n",
    "\n",
    "<br>P(B) can be calculated using the law of total probability:\n",
    "<br>P(B) = P(B|A) * P(A) + P(B|¬A) * P(¬A)\n",
    "\n",
    "<br>P(B|¬A) = Probability of drawing a red marble on the second draw given that the first marble was not red = 30/99 <br>(since there are 30 red marbles and 99 total marbles after the first draw)\n",
    "<br>P(¬A) = Probability of not drawing a red marble on the first draw = 1 - P(A) = 1 - 0.3 = 0.7\n",
    "\n",
    "Now, we can calculate P(B):\n",
    "\n",
    "P(B) = (29/99 * 0.3) + (30/99 * 0.7) ≈ 0.3131\n",
    "\n",
    "Finally, we can calculate P(A|B):\n",
    "\n",
    "P(A|B) = (29/99 * 0.3) / 0.3131 ≈ 0.2782\n",
    "\n",
    "So, the probability that the first marble drawn was red (Event A) given that the second marble drawn is red (Event B) is approximately 0.2782 or 27.82%"
   ]
  },
  {
   "cell_type": "markdown",
   "id": "b5f9ab39",
   "metadata": {},
   "source": [
    "## Q7. Calculate the 95% confidence interval for a sample of data with a mean of 50 and a standard deviation of 5. Interpret the results."
   ]
  },
  {
   "cell_type": "code",
   "execution_count": 5,
   "id": "7e76d307",
   "metadata": {},
   "outputs": [
    {
     "name": "stdout",
     "output_type": "stream",
     "text": [
      "t statistic for significance level 0.050 for sample size of 50 is : 2.01\n",
      "The 95% confidence interval is (48.58, 51.42)\n"
     ]
    }
   ],
   "source": [
    "#Sample size is not given assuming it as 50\n",
    "\n",
    "#Since population standard deviation is unkown we will use t test\n",
    "\n",
    "import math\n",
    "import scipy.stats as stats\n",
    "\n",
    "# Define the sample mean, standard deviation, and sample size\n",
    "sample_mean = 50\n",
    "sample_std_dev = 5\n",
    "sample_size = 50\n",
    "\n",
    "# Signficance Level\n",
    "ci=0.95\n",
    "alpha = 1-ci\n",
    "dof=sample_size-1\n",
    "\n",
    "# Calculate the critical value for a 95% confidence interval\n",
    "t_crit = stats.t.ppf(1-alpha/2, df=dof)\n",
    "print(f't statistic for significance level {alpha:.3f} for sample size of {sample_size} is : {t_crit:.2f}')\n",
    "\n",
    "# Calculate the standard error\n",
    "std_error = sample_std_dev / math.sqrt(sample_size)\n",
    "\n",
    "# Calculate the lower and upper bounds of the confidence interval\n",
    "lower_bound = sample_mean - t_crit * std_error\n",
    "upper_bound = sample_mean + t_crit * std_error\n",
    "\n",
    "# Print the results\n",
    "print(f\"The 95% confidence interval is ({lower_bound:.2f}, {upper_bound:.2f})\")"
   ]
  },
  {
   "cell_type": "markdown",
   "id": "65421f8f",
   "metadata": {},
   "source": [
    "## Q8. What is the margin of error in a confidence interval? How does sample size affect the margin of error? Provide an example of a scenario where a larger sample size would result in a smaller margin of error."
   ]
  },
  {
   "cell_type": "markdown",
   "id": "98f79d0f",
   "metadata": {},
   "source": [
    "The margin of error in a confidence interval is the range of values around the sample statistic (such as the sample mean) within which we expect the true population parameter (such as the population mean) to lie with a certain level of confidence. The margin of error is affected by the sample size, level of confidence, and standard deviation of the population.\n",
    "\n",
    "As the sample size increases, the margin of error decreases because larger samples provide more information about the population, and hence the sample statistics are more likely to be representative of the population. \n",
    "\n",
    "The decrease in margin of error with an increase in sample size follows the square root law, which states that the margin of error decreases by the square root of the sample size.\n",
    "\n",
    "Suppose we want to estimate the average time spent by students studying for a particular exam. We take two samples, one with 50 students (Sample A) and another with 500 students (Sample B). We calculate the sample mean and standard deviation for each sample.\n",
    "\n",
    "Sample A: Sample Mean = 4 hours, Sample Standard Deviation = 1 hour, Sample Size (n) = 50\n",
    "<br>Sample B: Sample Mean = 4 hours, Sample Standard Deviation = 1 hour, Sample Size (n) = 500\n",
    "\n",
    "Assuming a 95% confidence level, we can calculate the margin of error for each sample using the appropriate critical value (Z or t):\n",
    "\n",
    "For Sample A:\n",
    "\n",
    "Margin of Error = Z * (σ / √n) = Z * (1 / √50) ≈ 0.181 (Let's assume Z = 1.96 for a 95% confidence level.)\n",
    "\n",
    "For Sample B:\n",
    "\n",
    "Margin of Error = Z * (σ / √n) = Z * (1 / √500) ≈ 0.045 (Let's assume Z = 1.96 for a 95% confidence level.)\n",
    "\n",
    "From the example we notice the margin of error for Sample B (larger sample size) is significantly smaller than the margin of error for Sample A."
   ]
  },
  {
   "cell_type": "markdown",
   "id": "653e1429",
   "metadata": {},
   "source": [
    "## Q9. Calculate the z-score for a data point with a value of 75, a population mean of 70, and a population standard deviation of 5. Interpret the results."
   ]
  },
  {
   "cell_type": "code",
   "execution_count": 12,
   "id": "278f625a",
   "metadata": {},
   "outputs": [
    {
     "name": "stdout",
     "output_type": "stream",
     "text": [
      "The Z score is  : 1.0\n"
     ]
    }
   ],
   "source": [
    "#For Z score \n",
    "x = 75\n",
    "pop_mean = 70\n",
    "pop_std = 5\n",
    "\n",
    "z = (x - pop_mean) / (pop_std)\n",
    "\n",
    "print(f\"The Z score is  : {z}\")\n",
    "\n",
    "#This means that the data point is 1 standard deviation above the population mean. \n",
    "#A positive z-score indicates that the data point is above the mean.\n",
    "#A negative z-score indicates that it is below the mean. \n",
    "#The magnitude of the z-score tells us how far away the data point is from the mean in terms of standard deviations."
   ]
  },
  {
   "cell_type": "markdown",
   "id": "749317a8",
   "metadata": {},
   "source": [
    "## Q10. In a study of the effectiveness of a new weight loss drug, a sample of 50 participants lost an average of 6 pounds with a standard deviation of 2.5 pounds. Conduct a hypothesis test to determine if the drug is significantly effective at a 95% confidence level using a t-test."
   ]
  },
  {
   "cell_type": "code",
   "execution_count": 18,
   "id": "8d99e251",
   "metadata": {},
   "outputs": [
    {
     "name": "stdout",
     "output_type": "stream",
     "text": [
      "t-statistic: 16.970562748477143\n",
      "p-value: 0.0\n",
      "Reject the null hypothesis. The drug is significantly effective on the body.\n"
     ]
    }
   ],
   "source": [
    "import math\n",
    "from scipy.stats import t\n",
    "\n",
    "null_hypothesis = \"The drug has no effect on the body\"\n",
    "alternate_hypothesis = \"The drug is significantly effective on the body\"\n",
    "\n",
    "mu = 0 #assumed to be 0 under null hypothesis\n",
    "sample_size =50 \n",
    "sample_mean=6\n",
    "sample_std = 2.5\n",
    "ci =0.95\n",
    "alpha = 1-ci\n",
    "dof = sample_size-1\n",
    "\n",
    "t_score = (sample_mean - mu) / (sample_std / math.sqrt(sample_size))\n",
    "p_value = 2 * (1 - t.cdf((t_score), df=dof))\n",
    "\n",
    "# Compare p-value with alpha and make a conclusion\n",
    "print(f\"t-statistic: {t_score}\")\n",
    "print(f\"p-value: {p_value}\")\n",
    "if p_value < alpha:\n",
    "    print(f\"Reject the null hypothesis. {alternate_hypothesis}.\")\n",
    "else:\n",
    "    print(f\"Fail to reject the null hypothesis. {null_hypothesis}.\")\n"
   ]
  },
  {
   "cell_type": "markdown",
   "id": "7c215715",
   "metadata": {},
   "source": [
    "## Q11. In a survey of 500 people, 65% reported being satisfied with their current job. Calculate the 95% confidence interval for the true proportion of people who are satisfied with their job."
   ]
  },
  {
   "cell_type": "code",
   "execution_count": 32,
   "id": "218ebe65",
   "metadata": {},
   "outputs": [
    {
     "name": "stdout",
     "output_type": "stream",
     "text": [
      "For 95 % Confidence Interval the true proption Of people satisfied with thier job are (0.608 , 0.692)\n",
      "The pecentage proption of people satisifed with thier job are ( 60.819% , 69.181% )\n"
     ]
    }
   ],
   "source": [
    "'''The formula for the confidence interval for a population proportion is:\n",
    "\n",
    "Confidence Interval = Sample Proportion ± Z * √(Sample Proportion * (1 - Sample Proportion) / Sample Size)\n",
    "\n",
    "Where:\n",
    "\n",
    "Sample Proportion (p̂): The proportion of people in the sample who reported being satisfied with their job. \n",
    "In this case, it is 65%, which can be expressed as 0.65.\n",
    "Z: The critical value from the standard normal distribution corresponding to the desired confidence level. \n",
    "For a 95% confidence level, Z is approximately 1.96.\n",
    "Sample Size (n): The number of people in the survey. '''\n",
    "    \n",
    "n = 500\n",
    "p=0.65\n",
    "z = 1.96 #for 95% ci\n",
    "\n",
    "ci_upper = p + z * math.sqrt(p*(1-p)/n)\n",
    "ci_lower = p - z * math.sqrt(p*(1-p)/n)\n",
    "\n",
    "print(f\"For 95 % Confidence Interval the true proption Of people satisfied with thier job are ({ci_lower:.3f} , {ci_upper:.3f})\")\n",
    "print(f\"The pecentage proption of people satisifed with thier job are ( {ci_lower*100:.3f}% , {ci_upper*100:.3f}% )\")\n",
    "\n"
   ]
  },
  {
   "cell_type": "markdown",
   "id": "c9ed2551",
   "metadata": {},
   "source": [
    "## Q12. A researcher is testing the effectiveness of two different teaching methods on student performance. Sample A has a mean score of 85 with a standard deviation of 6, while sample B has a mean score of 82 with a standard deviation of 5. Conduct a hypothesis test to determine if the two teaching methods have a significant difference in student performance using a t-test with a significance level of 0.01."
   ]
  },
  {
   "cell_type": "code",
   "execution_count": 40,
   "id": "80e9fddd",
   "metadata": {},
   "outputs": [
    {
     "name": "stdout",
     "output_type": "stream",
     "text": [
      "t-statistic: 2.104\n",
      "Critical t-value: 2.663\n",
      "p-value: 0.040\n",
      "Fail to reject null hypothesis.\n",
      "Final Conclusion :  The teaching methods of A and B do not have a significant difference in student performance\n"
     ]
    }
   ],
   "source": [
    "import math\n",
    "from scipy.stats import t\n",
    "null_hypothesis = \"The teaching methods of A and B do not have a significant difference in student performance\"\n",
    "# null hypothesis μA - μB = 0 \n",
    "alternate_hypothesis = \"The teaching methods of A and B have a significant difference in student performance\"\n",
    "#alternate hypothesis μA - μB ≠ 0.\n",
    "\n",
    "#Sample A\n",
    "mean1 =85\n",
    "std1 =6\n",
    "\n",
    "#Sample B\n",
    "mean2=82\n",
    "std2=5\n",
    "\n",
    "alpha =0.01\n",
    "#since sample sizes of a and b are not given assuming both are 30 and equal\n",
    "n1 = 30\n",
    "n2 = 30\n",
    "#degree of freedom\n",
    "df = n1 + n2 -2\n",
    "\n",
    "#Pooled Standard Error = √[( (Sample A Standard Deviation)^2 / Sample A Size) + ( (Sample B Standard Deviation)^2 / Sample B Size )]\n",
    "# Calculate pooled standard deviation\n",
    "sp = math.sqrt(((std1 ** 2) / n1) + ((std2 ** 2) / n2))\n",
    "\n",
    "# Calculate t-statistic\n",
    "#t = (Sample A Mean - Sample B Mean) / Pooled Standard Error\n",
    "t_stat = (mean1 - mean2) / sp\n",
    "\n",
    "# Calculate critical t-value\n",
    "t_crit = t.ppf(1-alpha / 2, df)\n",
    "\n",
    "# Calculate p-value\n",
    "p_value = 2 * (1 - t.cdf(t_stat, df))\n",
    "\n",
    "# Print results\n",
    "print(f\"t-statistic: {t_stat:.3f}\")\n",
    "print(f\"Critical t-value: {t_crit:.3f}\")\n",
    "print(f\"p-value: {p_value:.3f}\")\n",
    "\n",
    "if abs(t_stat) > t_crit:\n",
    "    print(\"Reject null hypothesis.\")\n",
    "    print(\"Final Conclusion : \",alternate_hypothesis)\n",
    "else:\n",
    "    print(\"Fail to reject null hypothesis.\")\n",
    "    print(\"Final Conclusion : \" ,null_hypothesis)\n",
    "\n",
    "\n"
   ]
  },
  {
   "cell_type": "markdown",
   "id": "9990c395",
   "metadata": {},
   "source": [
    "## Q13. A population has a mean of 60 and a standard deviation of 8. A sample of 50 observations has a mean of 65. Calculate the 90% confidence interval for the true population mean."
   ]
  },
  {
   "cell_type": "code",
   "execution_count": 45,
   "id": "7e707845",
   "metadata": {},
   "outputs": [
    {
     "name": "stdout",
     "output_type": "stream",
     "text": [
      "Z - Value : 1.6448536269514722\n",
      "90% Confidence Interval: (63.139, 66.861)\n"
     ]
    }
   ],
   "source": [
    "from scipy.stats import norm\n",
    "import math\n",
    "\n",
    "pop_mean = 60\n",
    "pop_std =8\n",
    "n=50\n",
    "sample_mean=65\n",
    "ci =0.90\n",
    "alpha =1-ci\n",
    "\n",
    "z_critical = norm.ppf(1 - (1 - ci) / 2)\n",
    "\n",
    "margin_of_error = z_critical*(pop_std/math.sqrt(n))\n",
    "\n",
    "# Calculate the lower and upper bounds of the confidence interval\n",
    "lower_bound = sample_mean - margin_of_error\n",
    "upper_bound = sample_mean + margin_of_error\n",
    "\n",
    "\n",
    "print(\"Z - Value :\",z_critical)\n",
    "print(f\"90% Confidence Interval: ({lower_bound:.3f}, {upper_bound:.3f})\")"
   ]
  },
  {
   "cell_type": "markdown",
   "id": "890f8290",
   "metadata": {},
   "source": [
    "## Q14. In a study of the effects of caffeine on reaction time, a sample of 30 participants had an average reaction time of 0.25 seconds with a standard deviation of 0.05 seconds. Conduct a hypothesis test to determine if the caffeine has a significant effect on reaction time at a 90% confidence level using a t-test."
   ]
  },
  {
   "cell_type": "code",
   "execution_count": 48,
   "id": "15587935",
   "metadata": {},
   "outputs": [
    {
     "name": "stdout",
     "output_type": "stream",
     "text": [
      "t-statistic :  0.0\n",
      "t-critical :  1.6991270265334972\n",
      "At 90% Confidence Interval the bounds are : ( 0.2344891633250154 , 0.2655108366749846 )\n",
      "Failed to Reject the null hypothesis\n",
      "Final Conculsion :  Caffiene has no significant effect on reaction time equal to 0.25 sec\n"
     ]
    }
   ],
   "source": [
    "import math\n",
    "from scipy.stats import t\n",
    "\n",
    "null_hypothesis = \"Caffiene has no significant effect on reaction time equal to 0.25 sec\"\n",
    "alternate_hypothesis = \"Caffiene has significant effect on reaction time equal to 0.25 sec\"\n",
    "n=30\n",
    "sample_mean=0.25\n",
    "sample_std=0.05\n",
    "pop_mean = 0.25 #from null hypothesis\n",
    "ci = 0.90\n",
    "alpha = 1-ci\n",
    "df = n-1\n",
    "\n",
    "#t = (Sample Mean - Population Mean) / (Sample Standard Deviation / √Sample Size)\n",
    "t_stat = (sample_mean - pop_mean)/(sample_std/math.sqrt(n))\n",
    "\n",
    "# Calculate the critical t-value\n",
    "t_crit = stats.t.ppf(1-alpha/2,df)\n",
    "\n",
    "# Calculate the confidence interval\n",
    "margin_of_error = t_crit * (sample_std / math.sqrt(n))\n",
    "lower_ci = sample_mean - margin_of_error\n",
    "upper_ci = sample_mean + margin_of_error\n",
    "\n",
    "print(\"t-statistic : \",t_stat)\n",
    "print(\"t-critical : \",t_crit)\n",
    "print(f\"At 90% Confidence Interval the bounds are : ( {lower_ci} , {upper_ci} )\" )\n",
    "\n",
    "if t_stat > t_crit:\n",
    "    print(\"Reject the null hypothesis\")\n",
    "    print(\"Final Conculsion : \",alternate_hypothesis)\n",
    "    \n",
    "else:\n",
    "    print(\"Failed to Reject the null hypothesis\")\n",
    "    print(\"Final Conculsion : \",null_hypothesis)"
   ]
  }
 ],
 "metadata": {
  "kernelspec": {
   "display_name": "Python 3 (ipykernel)",
   "language": "python",
   "name": "python3"
  },
  "language_info": {
   "codemirror_mode": {
    "name": "ipython",
    "version": 3
   },
   "file_extension": ".py",
   "mimetype": "text/x-python",
   "name": "python",
   "nbconvert_exporter": "python",
   "pygments_lexer": "ipython3",
   "version": "3.10.9"
  }
 },
 "nbformat": 4,
 "nbformat_minor": 5
}
